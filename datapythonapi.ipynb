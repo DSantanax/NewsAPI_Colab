{
  "nbformat": 4,
  "nbformat_minor": 0,
  "metadata": {
    "colab": {
      "name": "datapythonapi.ipynb",
      "provenance": [],
      "collapsed_sections": [],
      "toc_visible": true,
      "authorship_tag": "ABX9TyNq0Yqf2N5nmhYExJJHviRi",
      "include_colab_link": true
    },
    "kernelspec": {
      "name": "python3",
      "display_name": "Python 3"
    }
  },
  "cells": [
    {
      "cell_type": "markdown",
      "metadata": {
        "id": "view-in-github",
        "colab_type": "text"
      },
      "source": [
        "<a href=\"https://colab.research.google.com/github/DSantanax/NewsAPI_Colab/blob/main/datapythonapi.ipynb\" target=\"_parent\"><img src=\"https://colab.research.google.com/assets/colab-badge.svg\" alt=\"Open In Colab\"/></a>"
      ]
    },
    {
      "cell_type": "markdown",
      "metadata": {
        "id": "6Npq05nftF0J"
      },
      "source": [
        "### COVID 19 Keywords\n",
        "# In this project we gather news articles using NEWSAPI and extract keywords by using the spacy npl then show a world cloud and save the data into a CSV file"
      ]
    },
    {
      "cell_type": "markdown",
      "metadata": {
        "id": "Td05mbsuqSuK"
      },
      "source": [
        "# Install spaCy & newsapi-python"
      ]
    },
    {
      "cell_type": "code",
      "metadata": {
        "id": "gRVvYAZ_oQ8h",
        "outputId": "e6ad134e-8cd3-47b7-b881-9001918ea4a3",
        "colab": {
          "base_uri": "https://localhost:8080/"
        }
      },
      "source": [
        "!python --version\n",
        "!pip install spacy\n",
        "!pip install newsapi-python"
      ],
      "execution_count": null,
      "outputs": [
        {
          "output_type": "stream",
          "text": [
            "Python 3.6.9\n",
            "Requirement already satisfied: spacy in /usr/local/lib/python3.6/dist-packages (2.2.4)\n",
            "Requirement already satisfied: numpy>=1.15.0 in /usr/local/lib/python3.6/dist-packages (from spacy) (1.18.5)\n",
            "Requirement already satisfied: srsly<1.1.0,>=1.0.2 in /usr/local/lib/python3.6/dist-packages (from spacy) (1.0.2)\n",
            "Requirement already satisfied: murmurhash<1.1.0,>=0.28.0 in /usr/local/lib/python3.6/dist-packages (from spacy) (1.0.2)\n",
            "Requirement already satisfied: wasabi<1.1.0,>=0.4.0 in /usr/local/lib/python3.6/dist-packages (from spacy) (0.8.0)\n",
            "Requirement already satisfied: requests<3.0.0,>=2.13.0 in /usr/local/lib/python3.6/dist-packages (from spacy) (2.23.0)\n",
            "Requirement already satisfied: plac<1.2.0,>=0.9.6 in /usr/local/lib/python3.6/dist-packages (from spacy) (1.1.3)\n",
            "Requirement already satisfied: setuptools in /usr/local/lib/python3.6/dist-packages (from spacy) (50.3.0)\n",
            "Requirement already satisfied: tqdm<5.0.0,>=4.38.0 in /usr/local/lib/python3.6/dist-packages (from spacy) (4.41.1)\n",
            "Requirement already satisfied: cymem<2.1.0,>=2.0.2 in /usr/local/lib/python3.6/dist-packages (from spacy) (2.0.3)\n",
            "Requirement already satisfied: preshed<3.1.0,>=3.0.2 in /usr/local/lib/python3.6/dist-packages (from spacy) (3.0.2)\n",
            "Requirement already satisfied: thinc==7.4.0 in /usr/local/lib/python3.6/dist-packages (from spacy) (7.4.0)\n",
            "Requirement already satisfied: blis<0.5.0,>=0.4.0 in /usr/local/lib/python3.6/dist-packages (from spacy) (0.4.1)\n",
            "Requirement already satisfied: catalogue<1.1.0,>=0.0.7 in /usr/local/lib/python3.6/dist-packages (from spacy) (1.0.0)\n",
            "Requirement already satisfied: chardet<4,>=3.0.2 in /usr/local/lib/python3.6/dist-packages (from requests<3.0.0,>=2.13.0->spacy) (3.0.4)\n",
            "Requirement already satisfied: certifi>=2017.4.17 in /usr/local/lib/python3.6/dist-packages (from requests<3.0.0,>=2.13.0->spacy) (2020.6.20)\n",
            "Requirement already satisfied: urllib3!=1.25.0,!=1.25.1,<1.26,>=1.21.1 in /usr/local/lib/python3.6/dist-packages (from requests<3.0.0,>=2.13.0->spacy) (1.24.3)\n",
            "Requirement already satisfied: idna<3,>=2.5 in /usr/local/lib/python3.6/dist-packages (from requests<3.0.0,>=2.13.0->spacy) (2.10)\n",
            "Requirement already satisfied: importlib-metadata>=0.20; python_version < \"3.8\" in /usr/local/lib/python3.6/dist-packages (from catalogue<1.1.0,>=0.0.7->spacy) (2.0.0)\n",
            "Requirement already satisfied: zipp>=0.5 in /usr/local/lib/python3.6/dist-packages (from importlib-metadata>=0.20; python_version < \"3.8\"->catalogue<1.1.0,>=0.0.7->spacy) (3.3.1)\n",
            "Collecting newsapi-python\n",
            "  Downloading https://files.pythonhosted.org/packages/de/9e/9050199ac7cbc755d1c49577fdaa5517901124b574264b3602a8b8028440/newsapi_python-0.2.6-py2.py3-none-any.whl\n",
            "Requirement already satisfied: requests<3.0.0 in /usr/local/lib/python3.6/dist-packages (from newsapi-python) (2.23.0)\n",
            "Requirement already satisfied: chardet<4,>=3.0.2 in /usr/local/lib/python3.6/dist-packages (from requests<3.0.0->newsapi-python) (3.0.4)\n",
            "Requirement already satisfied: idna<3,>=2.5 in /usr/local/lib/python3.6/dist-packages (from requests<3.0.0->newsapi-python) (2.10)\n",
            "Requirement already satisfied: certifi>=2017.4.17 in /usr/local/lib/python3.6/dist-packages (from requests<3.0.0->newsapi-python) (2020.6.20)\n",
            "Requirement already satisfied: urllib3!=1.25.0,!=1.25.1,<1.26,>=1.21.1 in /usr/local/lib/python3.6/dist-packages (from requests<3.0.0->newsapi-python) (1.24.3)\n",
            "Installing collected packages: newsapi-python\n",
            "Successfully installed newsapi-python-0.2.6\n"
          ],
          "name": "stdout"
        }
      ]
    },
    {
      "cell_type": "markdown",
      "metadata": {
        "id": "EyotsWMPqucI"
      },
      "source": [
        "# Download the spaCy english language model (large size)"
      ]
    },
    {
      "cell_type": "code",
      "metadata": {
        "id": "7BVx1fplqh7D",
        "outputId": "feb6b042-9b01-4e0e-fc33-0cc1629b977e",
        "colab": {
          "base_uri": "https://localhost:8080/"
        }
      },
      "source": [
        "!python -m spacy download en_core_web_lg"
      ],
      "execution_count": null,
      "outputs": [
        {
          "output_type": "stream",
          "text": [
            "Collecting en_core_web_lg==2.2.5\n",
            "\u001b[?25l  Downloading https://github.com/explosion/spacy-models/releases/download/en_core_web_lg-2.2.5/en_core_web_lg-2.2.5.tar.gz (827.9MB)\n",
            "\u001b[K     |████████████████████████████████| 827.9MB 1.2MB/s \n",
            "\u001b[?25hRequirement already satisfied: spacy>=2.2.2 in /usr/local/lib/python3.6/dist-packages (from en_core_web_lg==2.2.5) (2.2.4)\n",
            "Requirement already satisfied: numpy>=1.15.0 in /usr/local/lib/python3.6/dist-packages (from spacy>=2.2.2->en_core_web_lg==2.2.5) (1.18.5)\n",
            "Requirement already satisfied: blis<0.5.0,>=0.4.0 in /usr/local/lib/python3.6/dist-packages (from spacy>=2.2.2->en_core_web_lg==2.2.5) (0.4.1)\n",
            "Requirement already satisfied: plac<1.2.0,>=0.9.6 in /usr/local/lib/python3.6/dist-packages (from spacy>=2.2.2->en_core_web_lg==2.2.5) (1.1.3)\n",
            "Requirement already satisfied: requests<3.0.0,>=2.13.0 in /usr/local/lib/python3.6/dist-packages (from spacy>=2.2.2->en_core_web_lg==2.2.5) (2.23.0)\n",
            "Requirement already satisfied: tqdm<5.0.0,>=4.38.0 in /usr/local/lib/python3.6/dist-packages (from spacy>=2.2.2->en_core_web_lg==2.2.5) (4.41.1)\n",
            "Requirement already satisfied: setuptools in /usr/local/lib/python3.6/dist-packages (from spacy>=2.2.2->en_core_web_lg==2.2.5) (50.3.0)\n",
            "Requirement already satisfied: catalogue<1.1.0,>=0.0.7 in /usr/local/lib/python3.6/dist-packages (from spacy>=2.2.2->en_core_web_lg==2.2.5) (1.0.0)\n",
            "Requirement already satisfied: wasabi<1.1.0,>=0.4.0 in /usr/local/lib/python3.6/dist-packages (from spacy>=2.2.2->en_core_web_lg==2.2.5) (0.8.0)\n",
            "Requirement already satisfied: cymem<2.1.0,>=2.0.2 in /usr/local/lib/python3.6/dist-packages (from spacy>=2.2.2->en_core_web_lg==2.2.5) (2.0.3)\n",
            "Requirement already satisfied: preshed<3.1.0,>=3.0.2 in /usr/local/lib/python3.6/dist-packages (from spacy>=2.2.2->en_core_web_lg==2.2.5) (3.0.2)\n",
            "Requirement already satisfied: srsly<1.1.0,>=1.0.2 in /usr/local/lib/python3.6/dist-packages (from spacy>=2.2.2->en_core_web_lg==2.2.5) (1.0.2)\n",
            "Requirement already satisfied: murmurhash<1.1.0,>=0.28.0 in /usr/local/lib/python3.6/dist-packages (from spacy>=2.2.2->en_core_web_lg==2.2.5) (1.0.2)\n",
            "Requirement already satisfied: thinc==7.4.0 in /usr/local/lib/python3.6/dist-packages (from spacy>=2.2.2->en_core_web_lg==2.2.5) (7.4.0)\n",
            "Requirement already satisfied: urllib3!=1.25.0,!=1.25.1,<1.26,>=1.21.1 in /usr/local/lib/python3.6/dist-packages (from requests<3.0.0,>=2.13.0->spacy>=2.2.2->en_core_web_lg==2.2.5) (1.24.3)\n",
            "Requirement already satisfied: idna<3,>=2.5 in /usr/local/lib/python3.6/dist-packages (from requests<3.0.0,>=2.13.0->spacy>=2.2.2->en_core_web_lg==2.2.5) (2.10)\n",
            "Requirement already satisfied: certifi>=2017.4.17 in /usr/local/lib/python3.6/dist-packages (from requests<3.0.0,>=2.13.0->spacy>=2.2.2->en_core_web_lg==2.2.5) (2020.6.20)\n",
            "Requirement already satisfied: chardet<4,>=3.0.2 in /usr/local/lib/python3.6/dist-packages (from requests<3.0.0,>=2.13.0->spacy>=2.2.2->en_core_web_lg==2.2.5) (3.0.4)\n",
            "Requirement already satisfied: importlib-metadata>=0.20; python_version < \"3.8\" in /usr/local/lib/python3.6/dist-packages (from catalogue<1.1.0,>=0.0.7->spacy>=2.2.2->en_core_web_lg==2.2.5) (2.0.0)\n",
            "Requirement already satisfied: zipp>=0.5 in /usr/local/lib/python3.6/dist-packages (from importlib-metadata>=0.20; python_version < \"3.8\"->catalogue<1.1.0,>=0.0.7->spacy>=2.2.2->en_core_web_lg==2.2.5) (3.3.1)\n",
            "Building wheels for collected packages: en-core-web-lg\n",
            "  Building wheel for en-core-web-lg (setup.py) ... \u001b[?25l\u001b[?25hdone\n",
            "  Created wheel for en-core-web-lg: filename=en_core_web_lg-2.2.5-cp36-none-any.whl size=829180944 sha256=cd6a6668942be7df93db8220d7b35d4b29815ad79c16a97cb8ad5a3024283db3\n",
            "  Stored in directory: /tmp/pip-ephem-wheel-cache-t2ub6opn/wheels/2a/c1/a6/fc7a877b1efca9bc6a089d6f506f16d3868408f9ff89f8dbfc\n",
            "Successfully built en-core-web-lg\n",
            "Installing collected packages: en-core-web-lg\n",
            "Successfully installed en-core-web-lg-2.2.5\n",
            "\u001b[38;5;2m✔ Download and installation successful\u001b[0m\n",
            "You can now load the model via spacy.load('en_core_web_lg')\n"
          ],
          "name": "stdout"
        }
      ]
    },
    {
      "cell_type": "markdown",
      "metadata": {
        "id": "VVfr9nslreCh"
      },
      "source": [
        "# Import the libraries & load the data via variables"
      ]
    },
    {
      "cell_type": "code",
      "metadata": {
        "id": "NdmpAteWrduU"
      },
      "source": [
        "import spacy\n",
        "import newsapi\n",
        "import en_core_web_lg\n",
        "\n",
        "npl_eng = en_core_web_lg.load()\n",
        "news_api = newsapi.NewsApiClient(api_key='5ee6ccc0bfab4eafba577bb59f924745')"
      ],
      "execution_count": null,
      "outputs": []
    },
    {
      "cell_type": "markdown",
      "metadata": {
        "id": "EivMTNCvtPKh"
      },
      "source": [
        "# News API"
      ]
    },
    {
      "cell_type": "code",
      "metadata": {
        "id": "RrW-Eb2mtPa4"
      },
      "source": [
        "# use pickle to save data\n",
        "import pickle\n",
        "\n",
        "file_name = 'articlesCOVID.pckl'\n",
        "\n",
        "# each call gets 20 pages\n",
        "def pagination(number):\n",
        "  temp = news_api.get_everything(q='coronavirus', language='en', from_param='2020-09-29', to='2020-10-27', sort_by='relevancy', page = number)\n",
        "  return temp\n",
        "\n",
        "# pass pagination reference and range 1-6 to get 100 pages JSON format info\n",
        "articles = list(map(pagination, range(1,6)))\n"
      ],
      "execution_count": null,
      "outputs": []
    },
    {
      "cell_type": "markdown",
      "metadata": {
        "id": "tTO_vwhLy4Xv"
      },
      "source": [
        "# Save the data"
      ]
    },
    {
      "cell_type": "code",
      "metadata": {
        "id": "PF83hDxjyGMy"
      },
      "source": [
        "# save data, this saves it in content folder\n",
        "pickle.dump(articles, open(file_name, 'wb'))\n",
        "\n",
        "# load data from content folder\n",
        "loaded_model = pickle.load(open(file_name, 'rb'))\n",
        "\n",
        "# save to google drive (dont need)\n",
        "# file_path = '/content/articlesCOVID.pckl'\n",
        "# pickle.dump(loaded_model, open(filepath, 'wb'))"
      ],
      "execution_count": null,
      "outputs": []
    },
    {
      "cell_type": "markdown",
      "metadata": {
        "id": "radPcjud1rvp"
      },
      "source": [
        "# Show data & keys"
      ]
    },
    {
      "cell_type": "code",
      "metadata": {
        "id": "UP-tQJUK1tUr",
        "outputId": "12d39255-2585-4664-ceae-3243a2fce5d0",
        "colab": {
          "base_uri": "https://localhost:8080/"
        }
      },
      "source": [
        "# articles is a list containing and object with key articles as a list which contains the info we need\n",
        "\n",
        "# show articles data list its a JSON\n",
        "# print(articles)\n",
        "\n",
        "# show the keys of 1 article\n",
        "# may need to be articles\n",
        "print(article['articles'][0].keys())\n",
        "# show all keys for the articles\n",
        "# for article in articles:\n",
        "#   print(article.keys())\n",
        "#   for data in article['articles']:\n",
        "#     print(data.keys())"
      ],
      "execution_count": null,
      "outputs": [
        {
          "output_type": "stream",
          "text": [
            "dict_keys(['source', 'author', 'title', 'description', 'url', 'urlToImage', 'publishedAt', 'content'])\n"
          ],
          "name": "stdout"
        }
      ]
    },
    {
      "cell_type": "markdown",
      "metadata": {
        "id": "BM5IN9Up0PXF"
      },
      "source": [
        "# Handle data & transform into dictionary of articles in a Pandas DataFrame"
      ]
    },
    {
      "cell_type": "code",
      "metadata": {
        "id": "pbC26-rYz2ag",
        "outputId": "a7007967-4074-4fec-d699-3e7378ecfecb",
        "colab": {
          "base_uri": "https://localhost:8080/",
          "height": 195
        }
      },
      "source": [
        "import pandas as pd\n",
        "\n",
        "# create empty list, that will contain the dict items\n",
        "dados = []\n",
        "\n",
        "# articles is a list containing the articles info for each\n",
        "for _, article_info in enumerate(articles):\n",
        "  for data_article_keys in article_info['articles']:\n",
        "    title = data_article_keys['title']\n",
        "    date = data_article_keys['publishedAt']\n",
        "    description = data_article_keys['description']\n",
        "    content = data_article_keys['content']\n",
        "    dados.append({'title': title, 'date': date, 'desc': description, 'content': content})\n",
        "\n",
        "# create a DataFrame\n",
        "df = pd.DataFrame(dados)\n",
        "\n",
        "# remove missing values if needed\n",
        "df = df.dropna()\n",
        "\n",
        "# returns only the first 5 rows as default\n",
        "df.head()"
      ],
      "execution_count": null,
      "outputs": [
        {
          "output_type": "execute_result",
          "data": {
            "text/html": [
              "<div>\n",
              "<style scoped>\n",
              "    .dataframe tbody tr th:only-of-type {\n",
              "        vertical-align: middle;\n",
              "    }\n",
              "\n",
              "    .dataframe tbody tr th {\n",
              "        vertical-align: top;\n",
              "    }\n",
              "\n",
              "    .dataframe thead th {\n",
              "        text-align: right;\n",
              "    }\n",
              "</style>\n",
              "<table border=\"1\" class=\"dataframe\">\n",
              "  <thead>\n",
              "    <tr style=\"text-align: right;\">\n",
              "      <th></th>\n",
              "      <th>title</th>\n",
              "      <th>date</th>\n",
              "      <th>desc</th>\n",
              "      <th>content</th>\n",
              "    </tr>\n",
              "  </thead>\n",
              "  <tbody>\n",
              "    <tr>\n",
              "      <th>0</th>\n",
              "      <td>Sorry, Mouthwash Isn't a Coronavirus Cure</td>\n",
              "      <td>2020-10-21T19:45:00Z</td>\n",
              "      <td>Mouthwash is designed to kill germs in your mo...</td>\n",
              "      <td>Mouthwash is designed to kill germs in your mo...</td>\n",
              "    </tr>\n",
              "    <tr>\n",
              "      <th>1</th>\n",
              "      <td>Check an Airline's Coronavirus Policies Before...</td>\n",
              "      <td>2020-10-21T16:00:00Z</td>\n",
              "      <td>Navigating air travel during the COVID-19 pand...</td>\n",
              "      <td>Navigating air travel during the COVID-19 pand...</td>\n",
              "    </tr>\n",
              "    <tr>\n",
              "      <th>2</th>\n",
              "      <td>Twitter flags, limits sharing on Trump tweet a...</td>\n",
              "      <td>2020-10-11T19:11:34Z</td>\n",
              "      <td>Twitter disabled sharing options on a tweet fr...</td>\n",
              "      <td>The tweet violated the platforms rules against...</td>\n",
              "    </tr>\n",
              "    <tr>\n",
              "      <th>3</th>\n",
              "      <td>Coronavirus and Home Design</td>\n",
              "      <td>2020-10-22T13:00:08Z</td>\n",
              "      <td>A recent survey of architects reveals that cli...</td>\n",
              "      <td>The coronavirus pandemic is already shaping ho...</td>\n",
              "    </tr>\n",
              "    <tr>\n",
              "      <th>4</th>\n",
              "      <td>Coronavirus Briefing: What Happened Today</td>\n",
              "      <td>2020-10-12T22:12:24Z</td>\n",
              "      <td>What the near future may hold</td>\n",
              "      <td>Many leaders most notably President Trump have...</td>\n",
              "    </tr>\n",
              "  </tbody>\n",
              "</table>\n",
              "</div>"
            ],
            "text/plain": [
              "                                               title  ...                                            content\n",
              "0          Sorry, Mouthwash Isn't a Coronavirus Cure  ...  Mouthwash is designed to kill germs in your mo...\n",
              "1  Check an Airline's Coronavirus Policies Before...  ...  Navigating air travel during the COVID-19 pand...\n",
              "2  Twitter flags, limits sharing on Trump tweet a...  ...  The tweet violated the platforms rules against...\n",
              "3                        Coronavirus and Home Design  ...  The coronavirus pandemic is already shaping ho...\n",
              "4          Coronavirus Briefing: What Happened Today  ...  Many leaders most notably President Trump have...\n",
              "\n",
              "[5 rows x 4 columns]"
            ]
          },
          "metadata": {
            "tags": []
          },
          "execution_count": 156
        }
      ]
    },
    {
      "cell_type": "markdown",
      "metadata": {
        "id": "InMLZUc69CY8"
      },
      "source": [
        "# Match keywords\n"
      ]
    },
    {
      "cell_type": "code",
      "metadata": {
        "id": "IkmlsFWK9COB"
      },
      "source": [
        "from string import punctuation\n",
        "\n",
        "pos_tag = ['VERB', 'NOUN', 'PROPN']\n",
        "\n",
        "def get_keywords_eng(text):\n",
        "  result = []\n",
        "  doc = npl_eng(text)\n",
        "\n",
        "  for token in doc:\n",
        "    if(token.text in npl_eng.Defaults.stop_words or token.text in punctuation):\n",
        "      continue\n",
        "    if(token.pos_ in pos_tag):\n",
        "      result.append(token.text)\n",
        "\n",
        "  return result"
      ],
      "execution_count": null,
      "outputs": []
    },
    {
      "cell_type": "markdown",
      "metadata": {
        "id": "lfrC4KMp-JdC"
      },
      "source": [
        "# Apply function get_keywords_eng to dataframe's contents\n"
      ]
    },
    {
      "cell_type": "code",
      "metadata": {
        "id": "X6OIw70O-JTu",
        "outputId": "c2666baa-abf8-4a44-c15b-13404b3ed8eb",
        "colab": {
          "base_uri": "https://localhost:8080/",
          "height": 511
        }
      },
      "source": [
        "from collections import Counter\n",
        "results = []\n",
        "\n",
        "for content in df.content.values:\n",
        "  results.append([('#' + x[0]) for x in Counter(get_keywords_eng(content)).most_common(5)])\n",
        "\n",
        "df['keywords'] = results\n",
        "df.head(10)\n",
        "\n",
        "# save new table to pickle\n",
        "# pickle.dump(df, open(file_name, 'wb'))"
      ],
      "execution_count": null,
      "outputs": [
        {
          "output_type": "execute_result",
          "data": {
            "text/html": [
              "<div>\n",
              "<style scoped>\n",
              "    .dataframe tbody tr th:only-of-type {\n",
              "        vertical-align: middle;\n",
              "    }\n",
              "\n",
              "    .dataframe tbody tr th {\n",
              "        vertical-align: top;\n",
              "    }\n",
              "\n",
              "    .dataframe thead th {\n",
              "        text-align: right;\n",
              "    }\n",
              "</style>\n",
              "<table border=\"1\" class=\"dataframe\">\n",
              "  <thead>\n",
              "    <tr style=\"text-align: right;\">\n",
              "      <th></th>\n",
              "      <th>title</th>\n",
              "      <th>date</th>\n",
              "      <th>desc</th>\n",
              "      <th>content</th>\n",
              "      <th>keywords</th>\n",
              "    </tr>\n",
              "  </thead>\n",
              "  <tbody>\n",
              "    <tr>\n",
              "      <th>0</th>\n",
              "      <td>Sorry, Mouthwash Isn't a Coronavirus Cure</td>\n",
              "      <td>2020-10-21T19:45:00Z</td>\n",
              "      <td>Mouthwash is designed to kill germs in your mo...</td>\n",
              "      <td>Mouthwash is designed to kill germs in your mo...</td>\n",
              "      <td>[#Mouthwash, #designed, #kill, #germs, #mouth]</td>\n",
              "    </tr>\n",
              "    <tr>\n",
              "      <th>1</th>\n",
              "      <td>Check an Airline's Coronavirus Policies Before...</td>\n",
              "      <td>2020-10-21T16:00:00Z</td>\n",
              "      <td>Navigating air travel during the COVID-19 pand...</td>\n",
              "      <td>Navigating air travel during the COVID-19 pand...</td>\n",
              "      <td>[#Navigating, #air, #travel, #pandemic, #want]</td>\n",
              "    </tr>\n",
              "    <tr>\n",
              "      <th>2</th>\n",
              "      <td>Twitter flags, limits sharing on Trump tweet a...</td>\n",
              "      <td>2020-10-11T19:11:34Z</td>\n",
              "      <td>Twitter disabled sharing options on a tweet fr...</td>\n",
              "      <td>The tweet violated the platforms rules against...</td>\n",
              "      <td>[#tweet, #sharing, #violated, #platforms, #rules]</td>\n",
              "    </tr>\n",
              "    <tr>\n",
              "      <th>3</th>\n",
              "      <td>Coronavirus and Home Design</td>\n",
              "      <td>2020-10-22T13:00:08Z</td>\n",
              "      <td>A recent survey of architects reveals that cli...</td>\n",
              "      <td>The coronavirus pandemic is already shaping ho...</td>\n",
              "      <td>[#pandemic, #coronavirus, #shaping, #home, #de...</td>\n",
              "    </tr>\n",
              "    <tr>\n",
              "      <th>4</th>\n",
              "      <td>Coronavirus Briefing: What Happened Today</td>\n",
              "      <td>2020-10-12T22:12:24Z</td>\n",
              "      <td>What the near future may hold</td>\n",
              "      <td>Many leaders most notably President Trump have...</td>\n",
              "      <td>[#leaders, #President, #Trump, #described, #ar...</td>\n",
              "    </tr>\n",
              "    <tr>\n",
              "      <th>5</th>\n",
              "      <td>Coronavirus Briefing: What Happened Today</td>\n",
              "      <td>2020-10-14T22:53:33Z</td>\n",
              "      <td>Startling fall surges in the United States and...</td>\n",
              "      <td>In Europe, where a second wave is engulfing co...</td>\n",
              "      <td>[#Europe, #wave, #engulfing, #countries, #situ...</td>\n",
              "    </tr>\n",
              "    <tr>\n",
              "      <th>6</th>\n",
              "      <td>Coronavirus Briefing: What Happened Today</td>\n",
              "      <td>2020-10-13T21:37:51Z</td>\n",
              "      <td>Congress tried to shield Covid-19 patients fro...</td>\n",
              "      <td>Apoorva Mandavilli, who covers science and glo...</td>\n",
              "      <td>[#Apoorva, #Mandavilli, #covers, #science, #he...</td>\n",
              "    </tr>\n",
              "    <tr>\n",
              "      <th>7</th>\n",
              "      <td>Coronavirus in N.Y.C.: Latest Updates</td>\n",
              "      <td>2020-10-06T09:37:51Z</td>\n",
              "      <td>The governor has refused to approve the mayor'...</td>\n",
              "      <td>Since the season ended in October last year, C...</td>\n",
              "      <td>[#season, #ended, #October, #year, #Coney]</td>\n",
              "    </tr>\n",
              "    <tr>\n",
              "      <th>8</th>\n",
              "      <td>Coronavirus Briefing: What Happened Today</td>\n",
              "      <td>2020-10-07T22:48:34Z</td>\n",
              "      <td>The virus is now devastating the U.S. Midwest ...</td>\n",
              "      <td>The 66-year-old Catholic priest was one of the...</td>\n",
              "      <td>[#students, #priest, #invite, #return, #campus]</td>\n",
              "    </tr>\n",
              "    <tr>\n",
              "      <th>9</th>\n",
              "      <td>Coronavirus Briefing: What Happened Today</td>\n",
              "      <td>2020-10-08T23:40:04Z</td>\n",
              "      <td>The coronavirus treatment President Trump prai...</td>\n",
              "      <td>In New York City, the largest resurgence of th...</td>\n",
              "      <td>[#New, #York, #City, #resurgence, #virus]</td>\n",
              "    </tr>\n",
              "  </tbody>\n",
              "</table>\n",
              "</div>"
            ],
            "text/plain": [
              "                                               title  ...                                           keywords\n",
              "0          Sorry, Mouthwash Isn't a Coronavirus Cure  ...     [#Mouthwash, #designed, #kill, #germs, #mouth]\n",
              "1  Check an Airline's Coronavirus Policies Before...  ...     [#Navigating, #air, #travel, #pandemic, #want]\n",
              "2  Twitter flags, limits sharing on Trump tweet a...  ...  [#tweet, #sharing, #violated, #platforms, #rules]\n",
              "3                        Coronavirus and Home Design  ...  [#pandemic, #coronavirus, #shaping, #home, #de...\n",
              "4          Coronavirus Briefing: What Happened Today  ...  [#leaders, #President, #Trump, #described, #ar...\n",
              "5          Coronavirus Briefing: What Happened Today  ...  [#Europe, #wave, #engulfing, #countries, #situ...\n",
              "6          Coronavirus Briefing: What Happened Today  ...  [#Apoorva, #Mandavilli, #covers, #science, #he...\n",
              "7              Coronavirus in N.Y.C.: Latest Updates  ...         [#season, #ended, #October, #year, #Coney]\n",
              "8          Coronavirus Briefing: What Happened Today  ...    [#students, #priest, #invite, #return, #campus]\n",
              "9          Coronavirus Briefing: What Happened Today  ...          [#New, #York, #City, #resurgence, #virus]\n",
              "\n",
              "[10 rows x 5 columns]"
            ]
          },
          "metadata": {
            "tags": []
          },
          "execution_count": 167
        }
      ]
    },
    {
      "cell_type": "markdown",
      "metadata": {
        "id": "kVyIAUFXZUlY"
      },
      "source": [
        "# Show data using world cloud"
      ]
    },
    {
      "cell_type": "code",
      "metadata": {
        "id": "oiNsWJW4U0Es",
        "outputId": "dcb1d52b-0477-483a-c513-7540dc788f5e",
        "colab": {
          "base_uri": "https://localhost:8080/",
          "height": 198
        }
      },
      "source": [
        "from wordcloud import WordCloud\n",
        "import matplotlib.pyplot as plt\n",
        "\n",
        "text = str(results)\n",
        "world_cloud = WordCloud(max_font_size=50, max_words=100, background_color='white').generate(text)\n",
        "plt.figure()\n",
        "plt.imshow(world_cloud, interpolation='bilinear')\n",
        "plt.axis(\"off\")\n",
        "plt.show()"
      ],
      "execution_count": null,
      "outputs": [
        {
          "output_type": "display_data",
          "data": {
            "image/png": "[encoded data removed]",
            "text/plain": [
              "<Figure size 432x288 with 1 Axes>"
            ]
          },
          "metadata": {
            "tags": [],
            "needs_background": "light"
          }
        }
      ]
    },
    {
      "cell_type": "markdown",
      "metadata": {
        "id": "z160w2PgZ_Lz"
      },
      "source": [
        "# Save data using CSV"
      ]
    },
    {
      "cell_type": "code",
      "metadata": {
        "id": "JwuekllhZ_Up"
      },
      "source": [
        "file_path_name = 'covid_keywords.csv'\n",
        "df.to_csv(file_path_name)"
      ],
      "execution_count": null,
      "outputs": []
    },
    {
      "cell_type": "markdown",
      "metadata": {
        "id": "VEVaAORxqDqC"
      },
      "source": [
        "# Init git"
      ]
    },
    {
      "cell_type": "code",
      "metadata": {
        "id": "l8PdsYCRrABX",
        "outputId": "52b82a2c-1621-4519-e27a-dd05fbe08fa3",
        "colab": {
          "base_uri": "https://localhost:8080/"
        }
      },
      "source": [
        "!git init\n",
        "!git config --global user.email \"santana.danny4g@gmail.com\"\n",
        "!git config --global user.name \"DSantanax\""
      ],
      "execution_count": 37,
      "outputs": [
        {
          "output_type": "stream",
          "text": [
            "Reinitialized existing Git repository in /content/.git/\n"
          ],
          "name": "stdout"
        }
      ]
    },
    {
      "cell_type": "code",
      "metadata": {
        "id": "C6WoOJTAqEBj",
        "outputId": "38d792df-aa40-4bcb-f3ca-3b3aff852715",
        "colab": {
          "base_uri": "https://localhost:8080/"
        }
      },
      "source": [
        "!echo \"# NewsAPI_Colab\" >> README.md\n",
        "!git add README.md\n",
        "!git commit -m \"first commit\""
      ],
      "execution_count": 24,
      "outputs": [
        {
          "output_type": "stream",
          "text": [
            "[main 370e10c] first commit\n",
            " 1 file changed, 1 insertion(+)\n"
          ],
          "name": "stdout"
        }
      ]
    },
    {
      "cell_type": "code",
      "metadata": {
        "id": "Gd2jM-DGreKQ",
        "outputId": "2632cdf4-9576-4dbd-c436-648fef5bced9",
        "colab": {
          "base_uri": "https://localhost:8080/"
        }
      },
      "source": [
        "# !git branch -M main\n",
        "# !git remote add origin https://github.com/DSantanax/NewsAPI_Colab.git\n",
        "# !git remote add origin github.com/DSantanax/NewsAPI_Colab.git\n",
        "!git push -u origin main"
      ],
      "execution_count": 59,
      "outputs": [
        {
          "output_type": "stream",
          "text": [
            "Branch 'main' set up to track remote branch 'main' from 'origin'.\n",
            "Everything up-to-date\n"
          ],
          "name": "stdout"
        }
      ]
    },
    {
      "cell_type": "code",
      "metadata": {
        "id": "AtfyXOV0tEUD",
        "outputId": "f9472a4d-cbd8-4a22-cd30-93efc21cc129",
        "colab": {
          "base_uri": "https://localhost:8080/"
        }
      },
      "source": [
        "!git branch -l\n",
        "!ls -laF\n",
        "!git remote show origin"
      ],
      "execution_count": 40,
      "outputs": [
        {
          "output_type": "stream",
          "text": [
            "* \u001b[32mmain\u001b[m\n",
            "total 28\n",
            "drwxr-xr-x 1 root root 4096 Nov  3 01:23 ./\n",
            "drwxr-xr-x 1 root root 4096 Nov  3 01:09 ../\n",
            "drwxr-xr-x 1 root root 4096 Oct 28 16:30 .config/\n",
            "drwxr-xr-x 8 root root 4096 Nov  3 01:27 .git/\n",
            "-rw-r--r-- 1 root root   32 Nov  3 01:23 README.md\n",
            "drwxr-xr-x 1 root root 4096 Nov  3 01:21 sample_data/\n",
            "* remote origin\n",
            "  Fetch URL: https://github.com/DSantanax/NewsAPI_Colab.git\n",
            "  Push  URL: https://github.com/DSantanax/NewsAPI_Colab.git\n",
            "  HEAD branch: (unknown)\n"
          ],
          "name": "stdout"
        }
      ]
    },
    {
      "cell_type": "code",
      "metadata": {
        "id": "j9E6WLUjwAf-",
        "outputId": "932ab2ea-72df-46d2-df6c-76be300301b3",
        "colab": {
          "base_uri": "https://localhost:8080/"
        }
      },
      "source": [
        "!git remote rm origin"
      ],
      "execution_count": 48,
      "outputs": [
        {
          "output_type": "stream",
          "text": [
            "fatal: No such remote: origin\n"
          ],
          "name": "stdout"
        }
      ]
    }
  ]
}